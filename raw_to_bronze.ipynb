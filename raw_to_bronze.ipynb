{
 "cells": [
  {
   "cell_type": "code",
   "execution_count": 0,
   "metadata": {
    "application/vnd.databricks.v1+cell": {
     "cellMetadata": {
      "byteLimit": 2048000,
      "rowLimit": 10000
     },
     "inputWidgets": {},
     "nuid": "61ed2b67-bc1b-4eee-a1c7-fb5b7b1ef640",
     "showTitle": false,
     "tableResultSettingsMap": {},
     "title": ""
    }
   },
   "outputs": [],
   "source": [
    "from pyspark.sql.functions import *\n",
    "from pyspark.sql.functions import current_timestamp, lit\n"
   ]
  },
  {
   "cell_type": "code",
   "execution_count": 0,
   "metadata": {
    "application/vnd.databricks.v1+cell": {
     "cellMetadata": {
      "byteLimit": 2048000,
      "rowLimit": 10000
     },
     "inputWidgets": {},
     "nuid": "f2b6430d-239e-4bfb-8f5a-b8901e8dc7df",
     "showTitle": false,
     "tableResultSettingsMap": {},
     "title": ""
    }
   },
   "outputs": [],
   "source": [
    "source_path = \"abfss://raw@blobproject2701.dfs.core.windows.net/\"\n",
    "sink_path = \"abfss://bronze@lakegenproject2701.dfs.core.windows.net/\"\n"
   ]
  },
  {
   "cell_type": "code",
   "execution_count": 0,
   "metadata": {
    "application/vnd.databricks.v1+cell": {
     "cellMetadata": {
      "byteLimit": 2048000,
      "rowLimit": 10000
     },
     "inputWidgets": {},
     "nuid": "22bb6c97-ef4d-4e04-9720-55640d2fd0cc",
     "showTitle": false,
     "tableResultSettingsMap": {},
     "title": ""
    }
   },
   "outputs": [],
   "source": [
    "spark.conf.set(\n",
    "    \"fs.azure.account.key.blobproject2701.dfs.core.windows.net\",\n",
    "    \"sxRm+xAnWmyxidDeuovm4zAhzj3vbKSdpVejilWJpVr/yHOphN6kcltI2Ti9ijebV2ouWyZhL4JN+AStAyerQg==\")\n",
    "\n",
    "spark.conf.set(\n",
    "    \"fs.azure.account.key.lakegenproject2701.dfs.core.windows.net\",\n",
    "    \"nIzWcPnR1L9tMSj5rW4q4ZGRScBGhZiuZahxB1sTzaeZoBUqNFtf2AUFqFHLgK51PHLhw6s2gNTA+AStj4DGXQ==\")"
   ]
  },
  {
   "cell_type": "code",
   "execution_count": 0,
   "metadata": {
    "application/vnd.databricks.v1+cell": {
     "cellMetadata": {
      "byteLimit": 2048000,
      "rowLimit": 10000
     },
     "inputWidgets": {},
     "nuid": "012d1e03-e8ec-4335-a29e-c3e8c1d881ef",
     "showTitle": false,
     "tableResultSettingsMap": {},
     "title": ""
    }
   },
   "outputs": [],
   "source": [
    "# Define storage details\n",
    "storage_account_name = \"blobproject2701\"\n",
    "storage_account_key = \"sxRm+xAnWmyxidDeuovm4zAhzj3vbKSdpVejilWJpVr/yHOphN6kcltI2Ti9ijebV2ouWyZhL4JN+AStAyerQg==\"\n",
    "container_name = \"raw\""
   ]
  },
  {
   "cell_type": "code",
   "execution_count": 0,
   "metadata": {
    "application/vnd.databricks.v1+cell": {
     "cellMetadata": {
      "byteLimit": 2048000,
      "rowLimit": 10000
     },
     "inputWidgets": {},
     "nuid": "b0adfe3f-4d18-459b-8490-0aba18f37b17",
     "showTitle": false,
     "tableResultSettingsMap": {},
     "title": ""
    }
   },
   "outputs": [],
   "source": [
    "# Process each CSV file and save as Parquet with audit columns\n",
    "# 1. Delivery Data\n",
    "sales_df = spark.read.format('csv').option('header','true').option('inferSchema','true').load(f\"{source_path}sales.csv\")\n",
    "sales_bronze = sales_df \\\n",
    "    .withColumn(\"ingestion_date\", current_timestamp()) \\\n",
    "    .withColumn(\"source_file\", lit(\"sales.csv\"))\n",
    "sales_bronze.write.mode(\"overwrite\").parquet(f\"{sink_path}sales_data_bronze.parquet\")"
   ]
  },
  {
   "cell_type": "code",
   "execution_count": 0,
   "metadata": {
    "application/vnd.databricks.v1+cell": {
     "cellMetadata": {
      "byteLimit": 2048000,
      "rowLimit": 10000
     },
     "inputWidgets": {},
     "nuid": "4e84d5ee-8336-47bb-aad1-6d0574aa17c5",
     "showTitle": false,
     "tableResultSettingsMap": {},
     "title": ""
    }
   },
   "outputs": [],
   "source": [
    "# 2. Product Data\n",
    "product_df = spark.read.format('csv').option('header', 'true').option('inferSchema', 'true').load(f\"{source_path}product.csv\")\n",
    "product_bronze = product_df \\\n",
    "    .withColumn(\"ingestion_date\", current_timestamp()) \\\n",
    "    .withColumn(\"source_file\", lit(\"product.csv\"))\n",
    "product_bronze.write.mode(\"overwrite\").parquet(f\"{sink_path}product_data_bronze.parquet\")"
   ]
  },
  {
   "cell_type": "code",
   "execution_count": 0,
   "metadata": {
    "application/vnd.databricks.v1+cell": {
     "cellMetadata": {
      "byteLimit": 2048000,
      "rowLimit": 10000
     },
     "inputWidgets": {},
     "nuid": "fb561b45-b527-4724-b646-f3ec9e194a4f",
     "showTitle": false,
     "tableResultSettingsMap": {},
     "title": ""
    }
   },
   "outputs": [],
   "source": [
    "# 3. Customer Data\n",
    "customer_df = spark.read.format('csv').option('header', 'true').option('inferSchema', 'true').load(f\"{source_path}customer.csv\")\n",
    "customer_bronze = customer_df \\\n",
    "    .withColumn(\"ingestion_date\", current_timestamp()) \\\n",
    "    .withColumn(\"source_file\", lit(\"customer.csv\"))\n",
    "customer_bronze.write.mode(\"overwrite\").parquet(f\"{sink_path}customer_data_bronze.parquet\")"
   ]
  },
  {
   "cell_type": "code",
   "execution_count": 0,
   "metadata": {
    "application/vnd.databricks.v1+cell": {
     "cellMetadata": {
      "byteLimit": 2048000,
      "rowLimit": 10000
     },
     "inputWidgets": {},
     "nuid": "2446cdee-039b-4df4-bf7a-526a12065e22",
     "showTitle": false,
     "tableResultSettingsMap": {},
     "title": ""
    }
   },
   "outputs": [],
   "source": [
    "# 4. Store Data\n",
    "store_df = spark.read.format('csv').option('header', 'true').option('inferSchema', 'true').load(f\"{source_path}store.csv\")\n",
    "store_bronze = store_df \\\n",
    "    .withColumn(\"ingestion_date\", current_timestamp()) \\\n",
    "    .withColumn(\"source_file\", lit(\"store.csv\"))\n",
    "store_bronze.write.mode(\"overwrite\").parquet(f\"{sink_path}store_data_bronze.parquet\")"
   ]
  },
  {
   "cell_type": "code",
   "execution_count": 0,
   "metadata": {
    "application/vnd.databricks.v1+cell": {
     "cellMetadata": {
      "byteLimit": 2048000,
      "rowLimit": 10000
     },
     "inputWidgets": {},
     "nuid": "96e6fcfa-505c-469b-b7d9-eaa9cbd453ff",
     "showTitle": false,
     "tableResultSettingsMap": {},
     "title": ""
    }
   },
   "outputs": [],
   "source": []
  },
  {
   "cell_type": "code",
   "execution_count": 0,
   "metadata": {
    "application/vnd.databricks.v1+cell": {
     "cellMetadata": {
      "byteLimit": 2048000,
      "rowLimit": 10000
     },
     "inputWidgets": {},
     "nuid": "bbe85e9d-f4f7-48b0-ad34-ec51ad6763b2",
     "showTitle": false,
     "tableResultSettingsMap": {},
     "title": ""
    }
   },
   "outputs": [],
   "source": []
  }
 ],
 "metadata": {
  "application/vnd.databricks.v1+notebook": {
   "computePreferences": null,
   "dashboards": [],
   "environmentMetadata": {
    "base_environment": "",
    "environment_version": "2"
   },
   "inputWidgetPreferences": null,
   "language": "python",
   "notebookMetadata": {
    "pythonIndentUnit": 4
   },
   "notebookName": "raw_to_bronze",
   "widgets": {}
  },
  "language_info": {
   "name": "python"
  }
 },
 "nbformat": 4,
 "nbformat_minor": 0
}